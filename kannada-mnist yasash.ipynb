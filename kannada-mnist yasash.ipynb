{
 "cells": [
  {
   "cell_type": "code",
   "execution_count": 1,
   "id": "6da609ac",
   "metadata": {
    "_cell_guid": "b1076dfc-b9ad-4769-8c92-a6c4dae69d19",
    "_uuid": "8f2839f25d086af736a60e9eeb907d3b93b6e0e5",
    "execution": {
     "iopub.execute_input": "2022-12-08T03:45:25.023881Z",
     "iopub.status.busy": "2022-12-08T03:45:25.023445Z",
     "iopub.status.idle": "2022-12-08T03:45:25.037129Z",
     "shell.execute_reply": "2022-12-08T03:45:25.036427Z"
    },
    "papermill": {
     "duration": 0.026332,
     "end_time": "2022-12-08T03:45:25.039130",
     "exception": false,
     "start_time": "2022-12-08T03:45:25.012798",
     "status": "completed"
    },
    "tags": []
   },
   "outputs": [
    {
     "name": "stdout",
     "output_type": "stream",
     "text": [
      "/kaggle/input/Kannada-MNIST/sample_submission.csv\n",
      "/kaggle/input/Kannada-MNIST/Dig-MNIST.csv\n",
      "/kaggle/input/Kannada-MNIST/train.csv\n",
      "/kaggle/input/Kannada-MNIST/test.csv\n"
     ]
    }
   ],
   "source": [
    "# This Python 3 environment comes with many helpful analytics libraries installed\n",
    "# It is defined by the kaggle/python Docker image: https://github.com/kaggle/docker-python\n",
    "# For example, here's several helpful packages to load\n",
    "\n",
    "import numpy as np # linear algebra\n",
    "import pandas as pd # data processing, CSV file I/O (e.g. pd.read_csv)\n",
    "\n",
    "# Input data files are available in the read-only \"../input/\" directory\n",
    "# For example, running this (by clicking run or pressing Shift+Enter) will list all files under the input directory\n",
    "\n",
    "import os\n",
    "for dirname, _, filenames in os.walk('/kaggle/input'):\n",
    "    for filename in filenames:\n",
    "        print(os.path.join(dirname, filename))\n",
    "\n",
    "# You can write up to 20GB to the current directory (/kaggle/working/) that gets preserved as output when you create a version using \"Save & Run All\" \n",
    "# You can also write temporary files to /kaggle/temp/, but they won't be saved outside of the current session"
   ]
  },
  {
   "cell_type": "markdown",
   "id": "5f732a57",
   "metadata": {
    "papermill": {
     "duration": 0.007461,
     "end_time": "2022-12-08T03:45:25.054914",
     "exception": false,
     "start_time": "2022-12-08T03:45:25.047453",
     "status": "completed"
    },
    "tags": []
   },
   "source": [
    "# DATA EXPLORATION\n",
    "\n",
    "libraries used are numpy, pandas, matplotlib, seaborn(more expressive way of graphs).\n",
    "\n",
    "First we read the dataset(different functions are available depending on the data) suppose we cqa take read_csv()\n",
    "\n",
    "As the name suggests we have to explore the given data. use funtions like describe() to know the data in that dataframe. sorting of the attributes is essential. we then have to find the null values and the duplicate values if present can also plot the data for better representation , group the values and can also split them according to our convinience."
   ]
  },
  {
   "cell_type": "code",
   "execution_count": 2,
   "id": "b3b20ff5",
   "metadata": {
    "execution": {
     "iopub.execute_input": "2022-12-08T03:45:25.072036Z",
     "iopub.status.busy": "2022-12-08T03:45:25.071608Z",
     "iopub.status.idle": "2022-12-08T03:45:32.070673Z",
     "shell.execute_reply": "2022-12-08T03:45:32.069648Z"
    },
    "papermill": {
     "duration": 7.01059,
     "end_time": "2022-12-08T03:45:32.073115",
     "exception": false,
     "start_time": "2022-12-08T03:45:25.062525",
     "status": "completed"
    },
    "tags": []
   },
   "outputs": [],
   "source": [
    "import numpy as np \n",
    "import pandas as pd \n",
    "import matplotlib.pyplot as plt \n",
    "import seaborn as sns \n",
    "\n",
    "from sklearn.model_selection import train_test_split\n",
    "from sklearn.metrics import confusion_matrix\n",
    "from keras.utils.np_utils import to_categorical\n",
    "\n",
    "import tensorflow as tf\n",
    "from tensorflow.keras import Sequential\n",
    "from tensorflow.keras.layers import Conv2D, Dropout, Dense, Flatten, BatchNormalization, MaxPooling2D,LeakyReLU\n",
    "from tensorflow.keras.optimizers import RMSprop,Adam,Adadelta\n",
    "# from tensorflow.keras.preprocessing.image import ImageDataGenerator\n",
    "# from tensorflow.keras.callbacks import ReduceLROnPlateau, EarlyStopping\n",
    "from tensorflow.keras.utils import to_categorical\n",
    "# from tensorflow.keras.regularizers import l2\n",
    "\n",
    "import warnings\n",
    "warnings.filterwarnings('ignore')"
   ]
  },
  {
   "cell_type": "markdown",
   "id": "176f9f7b",
   "metadata": {
    "papermill": {
     "duration": 0.007607,
     "end_time": "2022-12-08T03:45:32.089312",
     "exception": false,
     "start_time": "2022-12-08T03:45:32.081705",
     "status": "completed"
    },
    "tags": []
   },
   "source": []
  },
  {
   "cell_type": "code",
   "execution_count": 3,
   "id": "3cbe9621",
   "metadata": {
    "execution": {
     "iopub.execute_input": "2022-12-08T03:45:32.108435Z",
     "iopub.status.busy": "2022-12-08T03:45:32.107766Z",
     "iopub.status.idle": "2022-12-08T03:45:37.549203Z",
     "shell.execute_reply": "2022-12-08T03:45:37.548324Z"
    },
    "papermill": {
     "duration": 5.45282,
     "end_time": "2022-12-08T03:45:37.551249",
     "exception": false,
     "start_time": "2022-12-08T03:45:32.098429",
     "status": "completed"
    },
    "tags": []
   },
   "outputs": [
    {
     "name": "stdout",
     "output_type": "stream",
     "text": [
      "       label  pixel0  pixel1  pixel2  pixel3  pixel4  pixel5  pixel6  pixel7  \\\n",
      "0          0       0       0       0       0       0       0       0       0   \n",
      "1          1       0       0       0       0       0       0       0       0   \n",
      "2          2       0       0       0       0       0       0       0       0   \n",
      "3          3       0       0       0       0       0       0       0       0   \n",
      "4          4       0       0       0       0       0       0       0       0   \n",
      "...      ...     ...     ...     ...     ...     ...     ...     ...     ...   \n",
      "59995      5       0       0       0       0       0       0       0       0   \n",
      "59996      6       0       0       0       0       0       0       0       0   \n",
      "59997      7       0       0       0       0       0       0       0       0   \n",
      "59998      8       0       0       0       0       0       0       0       0   \n",
      "59999      9       0       0       0       0       0       0       0       0   \n",
      "\n",
      "       pixel8  ...  pixel774  pixel775  pixel776  pixel777  pixel778  \\\n",
      "0           0  ...         0         0         0         0         0   \n",
      "1           0  ...         0         0         0         0         0   \n",
      "2           0  ...         0         0         0         0         0   \n",
      "3           0  ...         0         0         0         0         0   \n",
      "4           0  ...         0         0         0         0         0   \n",
      "...       ...  ...       ...       ...       ...       ...       ...   \n",
      "59995       0  ...         0         0         0         0         0   \n",
      "59996       0  ...         0         0         0         0         0   \n",
      "59997       0  ...         0         0         0         0         0   \n",
      "59998       0  ...         0         0         0         0         0   \n",
      "59999       0  ...         0         0         0         0         0   \n",
      "\n",
      "       pixel779  pixel780  pixel781  pixel782  pixel783  \n",
      "0             0         0         0         0         0  \n",
      "1             0         0         0         0         0  \n",
      "2             0         0         0         0         0  \n",
      "3             0         0         0         0         0  \n",
      "4             0         0         0         0         0  \n",
      "...         ...       ...       ...       ...       ...  \n",
      "59995         0         0         0         0         0  \n",
      "59996         0         0         0         0         0  \n",
      "59997         0         0         0         0         0  \n",
      "59998         0         0         0         0         0  \n",
      "59999         0         0         0         0         0  \n",
      "\n",
      "[60000 rows x 785 columns]\n"
     ]
    },
    {
     "data": {
      "text/html": [
       "<div>\n",
       "<style scoped>\n",
       "    .dataframe tbody tr th:only-of-type {\n",
       "        vertical-align: middle;\n",
       "    }\n",
       "\n",
       "    .dataframe tbody tr th {\n",
       "        vertical-align: top;\n",
       "    }\n",
       "\n",
       "    .dataframe thead th {\n",
       "        text-align: right;\n",
       "    }\n",
       "</style>\n",
       "<table border=\"1\" class=\"dataframe\">\n",
       "  <thead>\n",
       "    <tr style=\"text-align: right;\">\n",
       "      <th></th>\n",
       "      <th>label</th>\n",
       "      <th>pixel0</th>\n",
       "      <th>pixel1</th>\n",
       "      <th>pixel2</th>\n",
       "      <th>pixel3</th>\n",
       "      <th>pixel4</th>\n",
       "      <th>pixel5</th>\n",
       "      <th>pixel6</th>\n",
       "      <th>pixel7</th>\n",
       "      <th>pixel8</th>\n",
       "      <th>...</th>\n",
       "      <th>pixel774</th>\n",
       "      <th>pixel775</th>\n",
       "      <th>pixel776</th>\n",
       "      <th>pixel777</th>\n",
       "      <th>pixel778</th>\n",
       "      <th>pixel779</th>\n",
       "      <th>pixel780</th>\n",
       "      <th>pixel781</th>\n",
       "      <th>pixel782</th>\n",
       "      <th>pixel783</th>\n",
       "    </tr>\n",
       "  </thead>\n",
       "  <tbody>\n",
       "    <tr>\n",
       "      <th>count</th>\n",
       "      <td>60000.000000</td>\n",
       "      <td>60000.0</td>\n",
       "      <td>60000.0</td>\n",
       "      <td>60000.0</td>\n",
       "      <td>60000.0</td>\n",
       "      <td>60000.0</td>\n",
       "      <td>60000.000000</td>\n",
       "      <td>60000.000000</td>\n",
       "      <td>60000.000000</td>\n",
       "      <td>60000.000000</td>\n",
       "      <td>...</td>\n",
       "      <td>60000.000000</td>\n",
       "      <td>60000.000000</td>\n",
       "      <td>60000.000000</td>\n",
       "      <td>60000.000000</td>\n",
       "      <td>60000.000000</td>\n",
       "      <td>60000.000000</td>\n",
       "      <td>60000.000000</td>\n",
       "      <td>60000.0</td>\n",
       "      <td>60000.000000</td>\n",
       "      <td>60000.0</td>\n",
       "    </tr>\n",
       "    <tr>\n",
       "      <th>mean</th>\n",
       "      <td>4.500000</td>\n",
       "      <td>0.0</td>\n",
       "      <td>0.0</td>\n",
       "      <td>0.0</td>\n",
       "      <td>0.0</td>\n",
       "      <td>0.0</td>\n",
       "      <td>0.008817</td>\n",
       "      <td>0.029467</td>\n",
       "      <td>0.037767</td>\n",
       "      <td>0.075933</td>\n",
       "      <td>...</td>\n",
       "      <td>0.015583</td>\n",
       "      <td>0.016450</td>\n",
       "      <td>0.013417</td>\n",
       "      <td>0.022300</td>\n",
       "      <td>0.012217</td>\n",
       "      <td>0.001383</td>\n",
       "      <td>0.003783</td>\n",
       "      <td>0.0</td>\n",
       "      <td>0.002717</td>\n",
       "      <td>0.0</td>\n",
       "    </tr>\n",
       "    <tr>\n",
       "      <th>std</th>\n",
       "      <td>2.872305</td>\n",
       "      <td>0.0</td>\n",
       "      <td>0.0</td>\n",
       "      <td>0.0</td>\n",
       "      <td>0.0</td>\n",
       "      <td>0.0</td>\n",
       "      <td>1.474271</td>\n",
       "      <td>2.700491</td>\n",
       "      <td>2.726371</td>\n",
       "      <td>3.993023</td>\n",
       "      <td>...</td>\n",
       "      <td>1.443852</td>\n",
       "      <td>1.958914</td>\n",
       "      <td>1.342572</td>\n",
       "      <td>2.051846</td>\n",
       "      <td>1.730959</td>\n",
       "      <td>0.338846</td>\n",
       "      <td>0.926724</td>\n",
       "      <td>0.0</td>\n",
       "      <td>0.665445</td>\n",
       "      <td>0.0</td>\n",
       "    </tr>\n",
       "    <tr>\n",
       "      <th>min</th>\n",
       "      <td>0.000000</td>\n",
       "      <td>0.0</td>\n",
       "      <td>0.0</td>\n",
       "      <td>0.0</td>\n",
       "      <td>0.0</td>\n",
       "      <td>0.0</td>\n",
       "      <td>0.000000</td>\n",
       "      <td>0.000000</td>\n",
       "      <td>0.000000</td>\n",
       "      <td>0.000000</td>\n",
       "      <td>...</td>\n",
       "      <td>0.000000</td>\n",
       "      <td>0.000000</td>\n",
       "      <td>0.000000</td>\n",
       "      <td>0.000000</td>\n",
       "      <td>0.000000</td>\n",
       "      <td>0.000000</td>\n",
       "      <td>0.000000</td>\n",
       "      <td>0.0</td>\n",
       "      <td>0.000000</td>\n",
       "      <td>0.0</td>\n",
       "    </tr>\n",
       "    <tr>\n",
       "      <th>25%</th>\n",
       "      <td>2.000000</td>\n",
       "      <td>0.0</td>\n",
       "      <td>0.0</td>\n",
       "      <td>0.0</td>\n",
       "      <td>0.0</td>\n",
       "      <td>0.0</td>\n",
       "      <td>0.000000</td>\n",
       "      <td>0.000000</td>\n",
       "      <td>0.000000</td>\n",
       "      <td>0.000000</td>\n",
       "      <td>...</td>\n",
       "      <td>0.000000</td>\n",
       "      <td>0.000000</td>\n",
       "      <td>0.000000</td>\n",
       "      <td>0.000000</td>\n",
       "      <td>0.000000</td>\n",
       "      <td>0.000000</td>\n",
       "      <td>0.000000</td>\n",
       "      <td>0.0</td>\n",
       "      <td>0.000000</td>\n",
       "      <td>0.0</td>\n",
       "    </tr>\n",
       "    <tr>\n",
       "      <th>50%</th>\n",
       "      <td>4.500000</td>\n",
       "      <td>0.0</td>\n",
       "      <td>0.0</td>\n",
       "      <td>0.0</td>\n",
       "      <td>0.0</td>\n",
       "      <td>0.0</td>\n",
       "      <td>0.000000</td>\n",
       "      <td>0.000000</td>\n",
       "      <td>0.000000</td>\n",
       "      <td>0.000000</td>\n",
       "      <td>...</td>\n",
       "      <td>0.000000</td>\n",
       "      <td>0.000000</td>\n",
       "      <td>0.000000</td>\n",
       "      <td>0.000000</td>\n",
       "      <td>0.000000</td>\n",
       "      <td>0.000000</td>\n",
       "      <td>0.000000</td>\n",
       "      <td>0.0</td>\n",
       "      <td>0.000000</td>\n",
       "      <td>0.0</td>\n",
       "    </tr>\n",
       "    <tr>\n",
       "      <th>75%</th>\n",
       "      <td>7.000000</td>\n",
       "      <td>0.0</td>\n",
       "      <td>0.0</td>\n",
       "      <td>0.0</td>\n",
       "      <td>0.0</td>\n",
       "      <td>0.0</td>\n",
       "      <td>0.000000</td>\n",
       "      <td>0.000000</td>\n",
       "      <td>0.000000</td>\n",
       "      <td>0.000000</td>\n",
       "      <td>...</td>\n",
       "      <td>0.000000</td>\n",
       "      <td>0.000000</td>\n",
       "      <td>0.000000</td>\n",
       "      <td>0.000000</td>\n",
       "      <td>0.000000</td>\n",
       "      <td>0.000000</td>\n",
       "      <td>0.000000</td>\n",
       "      <td>0.0</td>\n",
       "      <td>0.000000</td>\n",
       "      <td>0.0</td>\n",
       "    </tr>\n",
       "    <tr>\n",
       "      <th>max</th>\n",
       "      <td>9.000000</td>\n",
       "      <td>0.0</td>\n",
       "      <td>0.0</td>\n",
       "      <td>0.0</td>\n",
       "      <td>0.0</td>\n",
       "      <td>0.0</td>\n",
       "      <td>255.000000</td>\n",
       "      <td>255.000000</td>\n",
       "      <td>255.000000</td>\n",
       "      <td>255.000000</td>\n",
       "      <td>...</td>\n",
       "      <td>255.000000</td>\n",
       "      <td>255.000000</td>\n",
       "      <td>157.000000</td>\n",
       "      <td>255.000000</td>\n",
       "      <td>255.000000</td>\n",
       "      <td>83.000000</td>\n",
       "      <td>227.000000</td>\n",
       "      <td>0.0</td>\n",
       "      <td>163.000000</td>\n",
       "      <td>0.0</td>\n",
       "    </tr>\n",
       "  </tbody>\n",
       "</table>\n",
       "<p>8 rows × 785 columns</p>\n",
       "</div>"
      ],
      "text/plain": [
       "              label   pixel0   pixel1   pixel2   pixel3   pixel4  \\\n",
       "count  60000.000000  60000.0  60000.0  60000.0  60000.0  60000.0   \n",
       "mean       4.500000      0.0      0.0      0.0      0.0      0.0   \n",
       "std        2.872305      0.0      0.0      0.0      0.0      0.0   \n",
       "min        0.000000      0.0      0.0      0.0      0.0      0.0   \n",
       "25%        2.000000      0.0      0.0      0.0      0.0      0.0   \n",
       "50%        4.500000      0.0      0.0      0.0      0.0      0.0   \n",
       "75%        7.000000      0.0      0.0      0.0      0.0      0.0   \n",
       "max        9.000000      0.0      0.0      0.0      0.0      0.0   \n",
       "\n",
       "             pixel5        pixel6        pixel7        pixel8  ...  \\\n",
       "count  60000.000000  60000.000000  60000.000000  60000.000000  ...   \n",
       "mean       0.008817      0.029467      0.037767      0.075933  ...   \n",
       "std        1.474271      2.700491      2.726371      3.993023  ...   \n",
       "min        0.000000      0.000000      0.000000      0.000000  ...   \n",
       "25%        0.000000      0.000000      0.000000      0.000000  ...   \n",
       "50%        0.000000      0.000000      0.000000      0.000000  ...   \n",
       "75%        0.000000      0.000000      0.000000      0.000000  ...   \n",
       "max      255.000000    255.000000    255.000000    255.000000  ...   \n",
       "\n",
       "           pixel774      pixel775      pixel776      pixel777      pixel778  \\\n",
       "count  60000.000000  60000.000000  60000.000000  60000.000000  60000.000000   \n",
       "mean       0.015583      0.016450      0.013417      0.022300      0.012217   \n",
       "std        1.443852      1.958914      1.342572      2.051846      1.730959   \n",
       "min        0.000000      0.000000      0.000000      0.000000      0.000000   \n",
       "25%        0.000000      0.000000      0.000000      0.000000      0.000000   \n",
       "50%        0.000000      0.000000      0.000000      0.000000      0.000000   \n",
       "75%        0.000000      0.000000      0.000000      0.000000      0.000000   \n",
       "max      255.000000    255.000000    157.000000    255.000000    255.000000   \n",
       "\n",
       "           pixel779      pixel780  pixel781      pixel782  pixel783  \n",
       "count  60000.000000  60000.000000   60000.0  60000.000000   60000.0  \n",
       "mean       0.001383      0.003783       0.0      0.002717       0.0  \n",
       "std        0.338846      0.926724       0.0      0.665445       0.0  \n",
       "min        0.000000      0.000000       0.0      0.000000       0.0  \n",
       "25%        0.000000      0.000000       0.0      0.000000       0.0  \n",
       "50%        0.000000      0.000000       0.0      0.000000       0.0  \n",
       "75%        0.000000      0.000000       0.0      0.000000       0.0  \n",
       "max       83.000000    227.000000       0.0    163.000000       0.0  \n",
       "\n",
       "[8 rows x 785 columns]"
      ]
     },
     "execution_count": 3,
     "metadata": {},
     "output_type": "execute_result"
    }
   ],
   "source": [
    "import numpy as np\n",
    "import pandas as pd\n",
    "import matplotlib.pyplot as plt\n",
    "import cv2\n",
    "\n",
    "df=pd.read_csv('../input/Kannada-MNIST/train.csv')\n",
    "print(df)\n",
    "df.describe()"
   ]
  },
  {
   "cell_type": "markdown",
   "id": "c390ae00",
   "metadata": {
    "papermill": {
     "duration": 0.008854,
     "end_time": "2022-12-08T03:45:37.569613",
     "exception": false,
     "start_time": "2022-12-08T03:45:37.560759",
     "status": "completed"
    },
    "tags": []
   },
   "source": [
    "# Checking the input image\n",
    "\n",
    "the input is given in pixel values format, we have to convert it into an image.\n",
    "\n",
    "we take the csv input convert it into a numpy array and the reshape it into a two dimentional array (img are 2d arrays).and then use opencv or matplotlib to plot the array into an image.(and also save it if we like to)"
   ]
  },
  {
   "cell_type": "code",
   "execution_count": 4,
   "id": "00d0c95b",
   "metadata": {
    "execution": {
     "iopub.execute_input": "2022-12-08T03:45:37.588164Z",
     "iopub.status.busy": "2022-12-08T03:45:37.587781Z",
     "iopub.status.idle": "2022-12-08T03:45:37.743890Z",
     "shell.execute_reply": "2022-12-08T03:45:37.743014Z"
    },
    "papermill": {
     "duration": 0.168211,
     "end_time": "2022-12-08T03:45:37.746381",
     "exception": false,
     "start_time": "2022-12-08T03:45:37.578170",
     "status": "completed"
    },
    "tags": []
   },
   "outputs": [
    {
     "name": "stdout",
     "output_type": "stream",
     "text": [
      "<class 'pandas.core.frame.DataFrame'>\n"
     ]
    },
    {
     "data": {
      "image/png": "[encoded data removed]",
      "text/plain": [
       "<Figure size 432x288 with 1 Axes>"
      ]
     },
     "metadata": {
      "needs_background": "light"
     },
     "output_type": "display_data"
    }
   ],
   "source": [
    "df0=df.iloc[:1,1:]\n",
    "print(type(df0))\n",
    "img = np.reshape(np.asarray(df0), (28, 28))\n",
    "cv2.imwrite('image0.png',img)\n",
    "plt.imshow(img)\n",
    "plt.show()"
   ]
  },
  {
   "cell_type": "code",
   "execution_count": 5,
   "id": "3d5669df",
   "metadata": {
    "execution": {
     "iopub.execute_input": "2022-12-08T03:45:37.766591Z",
     "iopub.status.busy": "2022-12-08T03:45:37.766047Z",
     "iopub.status.idle": "2022-12-08T03:45:37.776516Z",
     "shell.execute_reply": "2022-12-08T03:45:37.775322Z"
    },
    "papermill": {
     "duration": 0.022698,
     "end_time": "2022-12-08T03:45:37.778416",
     "exception": false,
     "start_time": "2022-12-08T03:45:37.755718",
     "status": "completed"
    },
    "tags": []
   },
   "outputs": [
    {
     "name": "stdout",
     "output_type": "stream",
     "text": [
      "0    6000\n",
      "1    6000\n",
      "2    6000\n",
      "3    6000\n",
      "4    6000\n",
      "5    6000\n",
      "6    6000\n",
      "7    6000\n",
      "8    6000\n",
      "9    6000\n",
      "Name: label, dtype: int64\n"
     ]
    }
   ],
   "source": [
    "x=df[\"label\"].value_counts()\n",
    "print(x)"
   ]
  },
  {
   "cell_type": "code",
   "execution_count": 6,
   "id": "9d20a392",
   "metadata": {
    "execution": {
     "iopub.execute_input": "2022-12-08T03:45:37.798403Z",
     "iopub.status.busy": "2022-12-08T03:45:37.797804Z",
     "iopub.status.idle": "2022-12-08T03:45:37.805115Z",
     "shell.execute_reply": "2022-12-08T03:45:37.804487Z"
    },
    "papermill": {
     "duration": 0.019529,
     "end_time": "2022-12-08T03:45:37.806892",
     "exception": false,
     "start_time": "2022-12-08T03:45:37.787363",
     "status": "completed"
    },
    "tags": []
   },
   "outputs": [
    {
     "data": {
      "text/plain": [
       "pixel776\n",
       "0      59992\n",
       "6          1\n",
       "16         1\n",
       "67         1\n",
       "119        1\n",
       "142        1\n",
       "148        1\n",
       "150        1\n",
       "157        1\n",
       "dtype: int64"
      ]
     },
     "execution_count": 6,
     "metadata": {},
     "output_type": "execute_result"
    }
   ],
   "source": [
    "df.value_counts('pixel776')"
   ]
  },
  {
   "cell_type": "markdown",
   "id": "b9fe7c6b",
   "metadata": {
    "papermill": {
     "duration": 0.00842,
     "end_time": "2022-12-08T03:45:37.824428",
     "exception": false,
     "start_time": "2022-12-08T03:45:37.816008",
     "status": "completed"
    },
    "tags": []
   },
   "source": [
    "# Finding sum of NULL data\n"
   ]
  },
  {
   "cell_type": "code",
   "execution_count": 7,
   "id": "eade30f8",
   "metadata": {
    "execution": {
     "iopub.execute_input": "2022-12-08T03:45:37.843322Z",
     "iopub.status.busy": "2022-12-08T03:45:37.842811Z",
     "iopub.status.idle": "2022-12-08T03:45:37.880712Z",
     "shell.execute_reply": "2022-12-08T03:45:37.879868Z"
    },
    "papermill": {
     "duration": 0.049437,
     "end_time": "2022-12-08T03:45:37.882483",
     "exception": false,
     "start_time": "2022-12-08T03:45:37.833046",
     "status": "completed"
    },
    "tags": []
   },
   "outputs": [
    {
     "data": {
      "text/plain": [
       "label       0\n",
       "pixel0      0\n",
       "pixel1      0\n",
       "pixel2      0\n",
       "pixel3      0\n",
       "           ..\n",
       "pixel779    0\n",
       "pixel780    0\n",
       "pixel781    0\n",
       "pixel782    0\n",
       "pixel783    0\n",
       "Length: 785, dtype: int64"
      ]
     },
     "execution_count": 7,
     "metadata": {},
     "output_type": "execute_result"
    }
   ],
   "source": [
    "df.isnull().sum()"
   ]
  },
  {
   "cell_type": "markdown",
   "id": "a1b32dd8",
   "metadata": {
    "papermill": {
     "duration": 0.008625,
     "end_time": "2022-12-08T03:45:37.900068",
     "exception": false,
     "start_time": "2022-12-08T03:45:37.891443",
     "status": "completed"
    },
    "tags": []
   },
   "source": [
    "# Finding sum of duplicated data"
   ]
  },
  {
   "cell_type": "code",
   "execution_count": 8,
   "id": "f98e0a40",
   "metadata": {
    "execution": {
     "iopub.execute_input": "2022-12-08T03:45:37.918948Z",
     "iopub.status.busy": "2022-12-08T03:45:37.918575Z",
     "iopub.status.idle": "2022-12-08T03:45:38.559676Z",
     "shell.execute_reply": "2022-12-08T03:45:38.558391Z"
    },
    "papermill": {
     "duration": 0.653135,
     "end_time": "2022-12-08T03:45:38.561785",
     "exception": false,
     "start_time": "2022-12-08T03:45:37.908650",
     "status": "completed"
    },
    "tags": []
   },
   "outputs": [
    {
     "data": {
      "text/plain": [
       "0"
      ]
     },
     "execution_count": 8,
     "metadata": {},
     "output_type": "execute_result"
    }
   ],
   "source": [
    "df.duplicated().sum()"
   ]
  },
  {
   "cell_type": "code",
   "execution_count": 9,
   "id": "1b143227",
   "metadata": {
    "execution": {
     "iopub.execute_input": "2022-12-08T03:45:38.583783Z",
     "iopub.status.busy": "2022-12-08T03:45:38.583426Z",
     "iopub.status.idle": "2022-12-08T03:45:38.588484Z",
     "shell.execute_reply": "2022-12-08T03:45:38.587906Z"
    },
    "papermill": {
     "duration": 0.016854,
     "end_time": "2022-12-08T03:45:38.590014",
     "exception": false,
     "start_time": "2022-12-08T03:45:38.573160",
     "status": "completed"
    },
    "tags": []
   },
   "outputs": [
    {
     "data": {
      "text/plain": [
       "(60000, 785)"
      ]
     },
     "execution_count": 9,
     "metadata": {},
     "output_type": "execute_result"
    }
   ],
   "source": [
    "df.shape"
   ]
  },
  {
   "cell_type": "markdown",
   "id": "f6f62262",
   "metadata": {
    "papermill": {
     "duration": 0.00875,
     "end_time": "2022-12-08T03:45:38.607725",
     "exception": false,
     "start_time": "2022-12-08T03:45:38.598975",
     "status": "completed"
    },
    "tags": []
   },
   "source": [
    "# Class distibution\n",
    "using seaborn instead of matplotlib"
   ]
  },
  {
   "cell_type": "code",
   "execution_count": 10,
   "id": "e5a07999",
   "metadata": {
    "execution": {
     "iopub.execute_input": "2022-12-08T03:45:38.627756Z",
     "iopub.status.busy": "2022-12-08T03:45:38.627203Z",
     "iopub.status.idle": "2022-12-08T03:45:38.826601Z",
     "shell.execute_reply": "2022-12-08T03:45:38.825318Z"
    },
    "papermill": {
     "duration": 0.212375,
     "end_time": "2022-12-08T03:45:38.829276",
     "exception": false,
     "start_time": "2022-12-08T03:45:38.616901",
     "status": "completed"
    },
    "tags": []
   },
   "outputs": [
    {
     "data": {
      "text/plain": [
       "<AxesSubplot:ylabel='label'>"
      ]
     },
     "execution_count": 10,
     "metadata": {},
     "output_type": "execute_result"
    },
    {
     "data": {
      "image/png": "[encoded data removed]",
      "text/plain": [
       "<Figure size 432x288 with 1 Axes>"
      ]
     },
     "metadata": {
      "needs_background": "light"
     },
     "output_type": "display_data"
    }
   ],
   "source": [
    "# df0=df.iloc[:1,:]\n",
    "import seaborn as sns\n",
    "# print(df0)\n",
    "sns.barplot(x.index,x)"
   ]
  },
  {
   "cell_type": "markdown",
   "id": "da666a35",
   "metadata": {
    "papermill": {
     "duration": 0.008961,
     "end_time": "2022-12-08T03:45:38.847959",
     "exception": false,
     "start_time": "2022-12-08T03:45:38.838998",
     "status": "completed"
    },
    "tags": []
   },
   "source": [
    "# Data preprocessing\n",
    "**Datasets**\n",
    "\n",
    "training sets- the dataset from which we use to fit the model.other terms model learns from this data.\n",
    "\n",
    "validation sets- a small part of data used to improve the quality of the model in simple terms,like it improves the hyperparameters.model wont learn fromt his dataset.(also called dev set , development set)\n",
    "\n",
    "training set- a fraction of data compared to training set. it is used to know how the model is performing.(test the fit of the model),is unbiased.\n",
    "\n",
    "**Data preparation**\n",
    "\n",
    "declaring training and testing variables.....and can also normalise them"
   ]
  },
  {
   "cell_type": "code",
   "execution_count": 11,
   "id": "936f1dc3",
   "metadata": {
    "execution": {
     "iopub.execute_input": "2022-12-08T03:45:38.868379Z",
     "iopub.status.busy": "2022-12-08T03:45:38.867098Z",
     "iopub.status.idle": "2022-12-08T03:45:40.979477Z",
     "shell.execute_reply": "2022-12-08T03:45:40.978475Z"
    },
    "papermill": {
     "duration": 2.125043,
     "end_time": "2022-12-08T03:45:40.981847",
     "exception": false,
     "start_time": "2022-12-08T03:45:38.856804",
     "status": "completed"
    },
    "tags": []
   },
   "outputs": [],
   "source": [
    "raw_train=pd.read_csv('../input/Kannada-MNIST/train.csv')\n",
    "# raw_test=pd.read_csv('../input/Kannada-MNIST/test.csv')"
   ]
  },
  {
   "cell_type": "code",
   "execution_count": 12,
   "id": "0b15cae2",
   "metadata": {
    "execution": {
     "iopub.execute_input": "2022-12-08T03:45:41.001737Z",
     "iopub.status.busy": "2022-12-08T03:45:41.001349Z",
     "iopub.status.idle": "2022-12-08T03:45:41.067466Z",
     "shell.execute_reply": "2022-12-08T03:45:41.066629Z"
    },
    "papermill": {
     "duration": 0.078601,
     "end_time": "2022-12-08T03:45:41.069726",
     "exception": false,
     "start_time": "2022-12-08T03:45:40.991125",
     "status": "completed"
    },
    "tags": []
   },
   "outputs": [],
   "source": [
    "x=raw_train.iloc[:,1:]/255\n",
    "y=raw_train.iloc[:,0]"
   ]
  },
  {
   "cell_type": "code",
   "execution_count": 13,
   "id": "b8ca397d",
   "metadata": {
    "execution": {
     "iopub.execute_input": "2022-12-08T03:45:41.090032Z",
     "iopub.status.busy": "2022-12-08T03:45:41.089657Z",
     "iopub.status.idle": "2022-12-08T03:45:41.408826Z",
     "shell.execute_reply": "2022-12-08T03:45:41.407921Z"
    },
    "papermill": {
     "duration": 0.332367,
     "end_time": "2022-12-08T03:45:41.411154",
     "exception": false,
     "start_time": "2022-12-08T03:45:41.078787",
     "status": "completed"
    },
    "tags": []
   },
   "outputs": [],
   "source": [
    "x_train,x_val,y_train,y_val=train_test_split(x,y,test_size=0.3,random_state=42)"
   ]
  },
  {
   "cell_type": "code",
   "execution_count": 14,
   "id": "11e8de74",
   "metadata": {
    "execution": {
     "iopub.execute_input": "2022-12-08T03:45:41.430982Z",
     "iopub.status.busy": "2022-12-08T03:45:41.430691Z",
     "iopub.status.idle": "2022-12-08T03:45:41.435824Z",
     "shell.execute_reply": "2022-12-08T03:45:41.435050Z"
    },
    "papermill": {
     "duration": 0.016956,
     "end_time": "2022-12-08T03:45:41.437432",
     "exception": false,
     "start_time": "2022-12-08T03:45:41.420476",
     "status": "completed"
    },
    "tags": []
   },
   "outputs": [
    {
     "data": {
      "text/plain": [
       "(42000, 784)"
      ]
     },
     "execution_count": 14,
     "metadata": {},
     "output_type": "execute_result"
    }
   ],
   "source": [
    "x_train.shape"
   ]
  },
  {
   "cell_type": "markdown",
   "id": "04e3f875",
   "metadata": {
    "papermill": {
     "duration": 0.008748,
     "end_time": "2022-12-08T03:45:41.455587",
     "exception": false,
     "start_time": "2022-12-08T03:45:41.446839",
     "status": "completed"
    },
    "tags": []
   },
   "source": [
    "# Reshape the data\n",
    "the data given here is in the form of (42000,784) but the image size to be taken is 28x28"
   ]
  },
  {
   "cell_type": "code",
   "execution_count": 15,
   "id": "0c30fc19",
   "metadata": {
    "execution": {
     "iopub.execute_input": "2022-12-08T03:45:41.474518Z",
     "iopub.status.busy": "2022-12-08T03:45:41.474188Z",
     "iopub.status.idle": "2022-12-08T03:45:41.480009Z",
     "shell.execute_reply": "2022-12-08T03:45:41.479232Z"
    },
    "papermill": {
     "duration": 0.01735,
     "end_time": "2022-12-08T03:45:41.481722",
     "exception": false,
     "start_time": "2022-12-08T03:45:41.464372",
     "status": "completed"
    },
    "tags": []
   },
   "outputs": [],
   "source": [
    "x_train=x_train.values.reshape(-1,28,28,1)\n",
    "x_val=x_val.values.reshape(-1,28,28,1)\n",
    "y_train=to_categorical(y_train)#the labels will be in the same fromat as the reshaped x_train \n",
    "y_val=to_categorical(y_val)"
   ]
  },
  {
   "cell_type": "code",
   "execution_count": 16,
   "id": "4e066635",
   "metadata": {
    "execution": {
     "iopub.execute_input": "2022-12-08T03:45:41.501404Z",
     "iopub.status.busy": "2022-12-08T03:45:41.500996Z",
     "iopub.status.idle": "2022-12-08T03:45:41.710207Z",
     "shell.execute_reply": "2022-12-08T03:45:41.709188Z"
    },
    "papermill": {
     "duration": 0.221705,
     "end_time": "2022-12-08T03:45:41.712300",
     "exception": false,
     "start_time": "2022-12-08T03:45:41.490595",
     "status": "completed"
    },
    "tags": []
   },
   "outputs": [
    {
     "name": "stderr",
     "output_type": "stream",
     "text": [
      "2022-12-08 03:45:41.560281: I tensorflow/core/common_runtime/process_util.cc:146] Creating new thread pool with default inter op setting: 2. Tune using inter_op_parallelism_threads for best performance.\n"
     ]
    }
   ],
   "source": [
    "model=tf.keras.models.Sequential([\n",
    "    tf.keras.layers.Conv2D(filters=32,kernel_size=(5,5),padding='same',activation='relu',input_shape=(28,28,1)),\n",
    "    tf.keras.layers.Conv2D(filters=32,kernel_size=(5,5),padding='same',activation='relu',input_shape=(28,28,1)),\n",
    "    tf.keras.layers.BatchNormalization(momentum=.15),\n",
    "    tf.keras.layers.MaxPool2D(pool_size=(2,2)),\n",
    "    tf.keras.layers.Dropout(0.25),\n",
    "    tf.keras.layers.Conv2D(filters=64,kernel_size=(5,5),padding='same',activation='relu',input_shape=(28,28,1)),\n",
    "    tf.keras.layers.Conv2D(filters=64,kernel_size=(5,5),padding='same',activation='relu',input_shape=(28,28,1)),\n",
    "    tf.keras.layers.BatchNormalization(momentum=.15),\n",
    "    tf.keras.layers.MaxPool2D(pool_size=(2,2),strides=(2,2)),\n",
    "    tf.keras.layers.Dropout(0.25),\n",
    "    tf.keras.layers.Conv2D(filters=32,kernel_size=(5,5),padding='same',activation='relu',input_shape=(28,28,1)),\n",
    "    tf.keras.layers.Conv2D(filters=32,kernel_size=(5,5),padding='same',activation='relu',input_shape=(28,28,1)),\n",
    "    tf.keras.layers.BatchNormalization(momentum=.15),\n",
    "    tf.keras.layers.MaxPool2D(pool_size=(2,2)),\n",
    "    tf.keras.layers.Dropout(0.25),\n",
    "    tf.keras.layers.Flatten(),\n",
    "    tf.keras.layers.Dense(256,activation=\"relu\"),\n",
    "    tf.keras.layers.Dropout(0.4),\n",
    "    tf.keras.layers.Dense(10,activation=\"softmax\") \n",
    "    \n",
    "])\n"
   ]
  },
  {
   "cell_type": "code",
   "execution_count": 17,
   "id": "7357956d",
   "metadata": {
    "execution": {
     "iopub.execute_input": "2022-12-08T03:45:41.733512Z",
     "iopub.status.busy": "2022-12-08T03:45:41.733140Z",
     "iopub.status.idle": "2022-12-08T03:45:41.739709Z",
     "shell.execute_reply": "2022-12-08T03:45:41.738838Z"
    },
    "papermill": {
     "duration": 0.019136,
     "end_time": "2022-12-08T03:45:41.741588",
     "exception": false,
     "start_time": "2022-12-08T03:45:41.722452",
     "status": "completed"
    },
    "tags": []
   },
   "outputs": [
    {
     "name": "stdout",
     "output_type": "stream",
     "text": [
      "Model: \"sequential\"\n",
      "_________________________________________________________________\n",
      "Layer (type)                 Output Shape              Param #   \n",
      "=================================================================\n",
      "conv2d (Conv2D)              (None, 28, 28, 32)        832       \n",
      "_________________________________________________________________\n",
      "conv2d_1 (Conv2D)            (None, 28, 28, 32)        25632     \n",
      "_________________________________________________________________\n",
      "batch_normalization (BatchNo (None, 28, 28, 32)        128       \n",
      "_________________________________________________________________\n",
      "max_pooling2d (MaxPooling2D) (None, 14, 14, 32)        0         \n",
      "_________________________________________________________________\n",
      "dropout (Dropout)            (None, 14, 14, 32)        0         \n",
      "_________________________________________________________________\n",
      "conv2d_2 (Conv2D)            (None, 14, 14, 64)        51264     \n",
      "_________________________________________________________________\n",
      "conv2d_3 (Conv2D)            (None, 14, 14, 64)        102464    \n",
      "_________________________________________________________________\n",
      "batch_normalization_1 (Batch (None, 14, 14, 64)        256       \n",
      "_________________________________________________________________\n",
      "max_pooling2d_1 (MaxPooling2 (None, 7, 7, 64)          0         \n",
      "_________________________________________________________________\n",
      "dropout_1 (Dropout)          (None, 7, 7, 64)          0         \n",
      "_________________________________________________________________\n",
      "conv2d_4 (Conv2D)            (None, 7, 7, 32)          51232     \n",
      "_________________________________________________________________\n",
      "conv2d_5 (Conv2D)            (None, 7, 7, 32)          25632     \n",
      "_________________________________________________________________\n",
      "batch_normalization_2 (Batch (None, 7, 7, 32)          128       \n",
      "_________________________________________________________________\n",
      "max_pooling2d_2 (MaxPooling2 (None, 3, 3, 32)          0         \n",
      "_________________________________________________________________\n",
      "dropout_2 (Dropout)          (None, 3, 3, 32)          0         \n",
      "_________________________________________________________________\n",
      "flatten (Flatten)            (None, 288)               0         \n",
      "_________________________________________________________________\n",
      "dense (Dense)                (None, 256)               73984     \n",
      "_________________________________________________________________\n",
      "dropout_3 (Dropout)          (None, 256)               0         \n",
      "_________________________________________________________________\n",
      "dense_1 (Dense)              (None, 10)                2570      \n",
      "=================================================================\n",
      "Total params: 334,122\n",
      "Trainable params: 333,866\n",
      "Non-trainable params: 256\n",
      "_________________________________________________________________\n"
     ]
    }
   ],
   "source": [
    "model.summary()"
   ]
  },
  {
   "cell_type": "code",
   "execution_count": 18,
   "id": "7fdb0a9e",
   "metadata": {
    "execution": {
     "iopub.execute_input": "2022-12-08T03:45:41.763039Z",
     "iopub.status.busy": "2022-12-08T03:45:41.762219Z",
     "iopub.status.idle": "2022-12-08T03:45:41.774372Z",
     "shell.execute_reply": "2022-12-08T03:45:41.773490Z"
    },
    "papermill": {
     "duration": 0.025042,
     "end_time": "2022-12-08T03:45:41.776426",
     "exception": false,
     "start_time": "2022-12-08T03:45:41.751384",
     "status": "completed"
    },
    "tags": []
   },
   "outputs": [],
   "source": [
    "optimizer=Adam(learning_rate=0.001,beta_1=0.9,beta_2=0.999)\n",
    "model.compile(optimizer=optimizer,loss=['categorical_crossentropy'],metrics=['accuracy'])"
   ]
  },
  {
   "cell_type": "code",
   "execution_count": 19,
   "id": "d431d5e0",
   "metadata": {
    "execution": {
     "iopub.execute_input": "2022-12-08T03:45:41.797618Z",
     "iopub.status.busy": "2022-12-08T03:45:41.797251Z",
     "iopub.status.idle": "2022-12-08T03:45:41.803943Z",
     "shell.execute_reply": "2022-12-08T03:45:41.802877Z"
    },
    "papermill": {
     "duration": 0.019665,
     "end_time": "2022-12-08T03:45:41.805888",
     "exception": false,
     "start_time": "2022-12-08T03:45:41.786223",
     "status": "completed"
    },
    "tags": []
   },
   "outputs": [
    {
     "data": {
      "text/plain": [
       "(42000, 28, 28, 1)"
      ]
     },
     "execution_count": 19,
     "metadata": {},
     "output_type": "execute_result"
    }
   ],
   "source": [
    "x_train.shape"
   ]
  },
  {
   "cell_type": "code",
   "execution_count": 20,
   "id": "ed5c40ce",
   "metadata": {
    "execution": {
     "iopub.execute_input": "2022-12-08T03:45:41.827497Z",
     "iopub.status.busy": "2022-12-08T03:45:41.827141Z",
     "iopub.status.idle": "2022-12-08T03:55:37.311797Z",
     "shell.execute_reply": "2022-12-08T03:55:37.310732Z"
    },
    "papermill": {
     "duration": 595.498521,
     "end_time": "2022-12-08T03:55:37.314250",
     "exception": false,
     "start_time": "2022-12-08T03:45:41.815729",
     "status": "completed"
    },
    "tags": []
   },
   "outputs": [
    {
     "name": "stderr",
     "output_type": "stream",
     "text": [
      "2022-12-08 03:45:41.999243: I tensorflow/compiler/mlir/mlir_graph_optimization_pass.cc:185] None of the MLIR Optimization Passes are enabled (registered 2)\n"
     ]
    },
    {
     "name": "stdout",
     "output_type": "stream",
     "text": [
      "Epoch 1/5\n",
      "1313/1313 [==============================] - 120s 90ms/step - loss: 0.1729 - accuracy: 0.9469 - val_loss: 0.0562 - val_accuracy: 0.9858\n",
      "Epoch 2/5\n",
      "1313/1313 [==============================] - 119s 91ms/step - loss: 0.0485 - accuracy: 0.9860 - val_loss: 0.0266 - val_accuracy: 0.9928\n",
      "Epoch 3/5\n",
      "1313/1313 [==============================] - 119s 91ms/step - loss: 0.0370 - accuracy: 0.9893 - val_loss: 0.0285 - val_accuracy: 0.9927\n",
      "Epoch 4/5\n",
      "1313/1313 [==============================] - 118s 90ms/step - loss: 0.0306 - accuracy: 0.9911 - val_loss: 0.0582 - val_accuracy: 0.9849\n",
      "Epoch 5/5\n",
      "1313/1313 [==============================] - 119s 90ms/step - loss: 0.0291 - accuracy: 0.9917 - val_loss: 0.0293 - val_accuracy: 0.9924\n"
     ]
    }
   ],
   "source": [
    "epochs=5\n",
    "batch_size=64\n",
    "history=model.fit(x_train,y_train,epochs=epochs,validation_data=(x_val,y_val))"
   ]
  },
  {
   "cell_type": "code",
   "execution_count": 21,
   "id": "6cae560b",
   "metadata": {
    "execution": {
     "iopub.execute_input": "2022-12-08T03:55:38.034639Z",
     "iopub.status.busy": "2022-12-08T03:55:38.033783Z",
     "iopub.status.idle": "2022-12-08T03:55:38.328937Z",
     "shell.execute_reply": "2022-12-08T03:55:38.327637Z"
    },
    "papermill": {
     "duration": 0.660118,
     "end_time": "2022-12-08T03:55:38.331737",
     "exception": false,
     "start_time": "2022-12-08T03:55:37.671619",
     "status": "completed"
    },
    "tags": []
   },
   "outputs": [
    {
     "name": "stdout",
     "output_type": "stream",
     "text": [
      "   pixel0  pixel1  pixel2  pixel3  pixel4  pixel5  pixel6  pixel7  pixel8  \\\n",
      "2       0       0       0       0       0       0       0       0       0   \n",
      "\n",
      "   pixel9  ...  pixel774  pixel775  pixel776  pixel777  pixel778  pixel779  \\\n",
      "2       0  ...         0         0         0         0         0         0   \n",
      "\n",
      "   pixel780  pixel781  pixel782  pixel783  \n",
      "2         0         0         0         0  \n",
      "\n",
      "[1 rows x 784 columns]\n"
     ]
    }
   ],
   "source": [
    "# print(raw_test)\n",
    "# test=raw_test\n",
    "test=pd.read_csv('../input/Kannada-MNIST/test.csv')\n",
    "test1=test.iloc[2:3,1:]\n",
    "print(test1)"
   ]
  },
  {
   "cell_type": "code",
   "execution_count": 22,
   "id": "8690853e",
   "metadata": {
    "execution": {
     "iopub.execute_input": "2022-12-08T03:55:39.091738Z",
     "iopub.status.busy": "2022-12-08T03:55:39.091395Z",
     "iopub.status.idle": "2022-12-08T03:55:39.105330Z",
     "shell.execute_reply": "2022-12-08T03:55:39.104136Z"
    },
    "papermill": {
     "duration": 0.421566,
     "end_time": "2022-12-08T03:55:39.107381",
     "exception": false,
     "start_time": "2022-12-08T03:55:38.685815",
     "status": "completed"
    },
    "tags": []
   },
   "outputs": [],
   "source": [
    "# test_id=test.id\n",
    "\n",
    "test=test.drop(['id'],axis=1)/255\n",
    "test=test.values.reshape(-1,28,28,1)"
   ]
  },
  {
   "cell_type": "code",
   "execution_count": 23,
   "id": "0616b301",
   "metadata": {
    "execution": {
     "iopub.execute_input": "2022-12-08T03:55:39.820968Z",
     "iopub.status.busy": "2022-12-08T03:55:39.820615Z",
     "iopub.status.idle": "2022-12-08T03:55:39.827042Z",
     "shell.execute_reply": "2022-12-08T03:55:39.826129Z"
    },
    "papermill": {
     "duration": 0.365876,
     "end_time": "2022-12-08T03:55:39.828813",
     "exception": false,
     "start_time": "2022-12-08T03:55:39.462937",
     "status": "completed"
    },
    "tags": []
   },
   "outputs": [
    {
     "data": {
      "text/plain": [
       "(5000, 28, 28, 1)"
      ]
     },
     "execution_count": 23,
     "metadata": {},
     "output_type": "execute_result"
    }
   ],
   "source": [
    "test.shape"
   ]
  },
  {
   "cell_type": "markdown",
   "id": "7f255bbc",
   "metadata": {
    "papermill": {
     "duration": 0.393133,
     "end_time": "2022-12-08T03:55:40.578576",
     "exception": false,
     "start_time": "2022-12-08T03:55:40.185443",
     "status": "completed"
    },
    "tags": []
   },
   "source": [
    "# Prediction\n",
    "Save onto a csv file"
   ]
  },
  {
   "cell_type": "code",
   "execution_count": 24,
   "id": "fa471eb0",
   "metadata": {
    "execution": {
     "iopub.execute_input": "2022-12-08T03:55:41.291692Z",
     "iopub.status.busy": "2022-12-08T03:55:41.291346Z",
     "iopub.status.idle": "2022-12-08T03:55:45.027056Z",
     "shell.execute_reply": "2022-12-08T03:55:45.025824Z"
    },
    "papermill": {
     "duration": 4.094828,
     "end_time": "2022-12-08T03:55:45.029513",
     "exception": false,
     "start_time": "2022-12-08T03:55:40.934685",
     "status": "completed"
    },
    "tags": []
   },
   "outputs": [
    {
     "name": "stdout",
     "output_type": "stream",
     "text": [
      "[3 0 2 ... 1 6 3]\n"
     ]
    }
   ],
   "source": [
    "Yp=model.predict(test)\n",
    "Yp=np.argmax(Yp,axis=1)\n",
    "print(Yp)\n",
    "model.save('model1.h5')\n",
    "# Yp.head()\n",
    "# sample_sub['label']=Yp\n",
    "# sample_sub.to_csv('submission.csv',index=False)\n",
    "# sample_sub.head()\n",
    "# np.savetxt('submission.csv',Yp.astype('int32'),delimiter=',')"
   ]
  },
  {
   "cell_type": "code",
   "execution_count": 25,
   "id": "075a77b4",
   "metadata": {
    "execution": {
     "iopub.execute_input": "2022-12-08T03:55:45.742698Z",
     "iopub.status.busy": "2022-12-08T03:55:45.741903Z",
     "iopub.status.idle": "2022-12-08T03:55:45.760281Z",
     "shell.execute_reply": "2022-12-08T03:55:45.759625Z"
    },
    "papermill": {
     "duration": 0.373271,
     "end_time": "2022-12-08T03:55:45.762454",
     "exception": false,
     "start_time": "2022-12-08T03:55:45.389183",
     "status": "completed"
    },
    "tags": []
   },
   "outputs": [],
   "source": [
    "sample_sub=pd.read_csv('../input/Kannada-MNIST/sample_submission.csv')\n",
    "sample_sub['label']=Yp\n",
    "sample_sub.to_csv('submission.csv',index=False)"
   ]
  },
  {
   "cell_type": "code",
   "execution_count": 26,
   "id": "99de0318",
   "metadata": {
    "execution": {
     "iopub.execute_input": "2022-12-08T03:55:46.520119Z",
     "iopub.status.busy": "2022-12-08T03:55:46.519746Z",
     "iopub.status.idle": "2022-12-08T03:55:46.529237Z",
     "shell.execute_reply": "2022-12-08T03:55:46.528393Z"
    },
    "papermill": {
     "duration": 0.364419,
     "end_time": "2022-12-08T03:55:46.530982",
     "exception": false,
     "start_time": "2022-12-08T03:55:46.166563",
     "status": "completed"
    },
    "tags": []
   },
   "outputs": [
    {
     "data": {
      "text/html": [
       "<div>\n",
       "<style scoped>\n",
       "    .dataframe tbody tr th:only-of-type {\n",
       "        vertical-align: middle;\n",
       "    }\n",
       "\n",
       "    .dataframe tbody tr th {\n",
       "        vertical-align: top;\n",
       "    }\n",
       "\n",
       "    .dataframe thead th {\n",
       "        text-align: right;\n",
       "    }\n",
       "</style>\n",
       "<table border=\"1\" class=\"dataframe\">\n",
       "  <thead>\n",
       "    <tr style=\"text-align: right;\">\n",
       "      <th></th>\n",
       "      <th>id</th>\n",
       "      <th>label</th>\n",
       "    </tr>\n",
       "  </thead>\n",
       "  <tbody>\n",
       "    <tr>\n",
       "      <th>0</th>\n",
       "      <td>0</td>\n",
       "      <td>3</td>\n",
       "    </tr>\n",
       "    <tr>\n",
       "      <th>1</th>\n",
       "      <td>1</td>\n",
       "      <td>0</td>\n",
       "    </tr>\n",
       "    <tr>\n",
       "      <th>2</th>\n",
       "      <td>2</td>\n",
       "      <td>2</td>\n",
       "    </tr>\n",
       "    <tr>\n",
       "      <th>3</th>\n",
       "      <td>3</td>\n",
       "      <td>6</td>\n",
       "    </tr>\n",
       "    <tr>\n",
       "      <th>4</th>\n",
       "      <td>4</td>\n",
       "      <td>7</td>\n",
       "    </tr>\n",
       "    <tr>\n",
       "      <th>...</th>\n",
       "      <td>...</td>\n",
       "      <td>...</td>\n",
       "    </tr>\n",
       "    <tr>\n",
       "      <th>4995</th>\n",
       "      <td>4995</td>\n",
       "      <td>1</td>\n",
       "    </tr>\n",
       "    <tr>\n",
       "      <th>4996</th>\n",
       "      <td>4996</td>\n",
       "      <td>1</td>\n",
       "    </tr>\n",
       "    <tr>\n",
       "      <th>4997</th>\n",
       "      <td>4997</td>\n",
       "      <td>1</td>\n",
       "    </tr>\n",
       "    <tr>\n",
       "      <th>4998</th>\n",
       "      <td>4998</td>\n",
       "      <td>6</td>\n",
       "    </tr>\n",
       "    <tr>\n",
       "      <th>4999</th>\n",
       "      <td>4999</td>\n",
       "      <td>3</td>\n",
       "    </tr>\n",
       "  </tbody>\n",
       "</table>\n",
       "<p>5000 rows × 2 columns</p>\n",
       "</div>"
      ],
      "text/plain": [
       "        id  label\n",
       "0        0      3\n",
       "1        1      0\n",
       "2        2      2\n",
       "3        3      6\n",
       "4        4      7\n",
       "...    ...    ...\n",
       "4995  4995      1\n",
       "4996  4996      1\n",
       "4997  4997      1\n",
       "4998  4998      6\n",
       "4999  4999      3\n",
       "\n",
       "[5000 rows x 2 columns]"
      ]
     },
     "execution_count": 26,
     "metadata": {},
     "output_type": "execute_result"
    }
   ],
   "source": [
    "sample_sub"
   ]
  },
  {
   "cell_type": "code",
   "execution_count": 27,
   "id": "ee69d7c7",
   "metadata": {
    "execution": {
     "iopub.execute_input": "2022-12-08T03:55:47.241729Z",
     "iopub.status.busy": "2022-12-08T03:55:47.241135Z",
     "iopub.status.idle": "2022-12-08T03:55:47.246682Z",
     "shell.execute_reply": "2022-12-08T03:55:47.246046Z"
    },
    "papermill": {
     "duration": 0.364606,
     "end_time": "2022-12-08T03:55:47.248355",
     "exception": false,
     "start_time": "2022-12-08T03:55:46.883749",
     "status": "completed"
    },
    "tags": []
   },
   "outputs": [
    {
     "data": {
      "text/plain": [
       "(5000, 28, 28, 1)"
      ]
     },
     "execution_count": 27,
     "metadata": {},
     "output_type": "execute_result"
    }
   ],
   "source": [
    "test.shape"
   ]
  },
  {
   "cell_type": "code",
   "execution_count": 28,
   "id": "edb5cfd1",
   "metadata": {
    "execution": {
     "iopub.execute_input": "2022-12-08T03:55:48.013685Z",
     "iopub.status.busy": "2022-12-08T03:55:48.013393Z",
     "iopub.status.idle": "2022-12-08T03:55:48.110160Z",
     "shell.execute_reply": "2022-12-08T03:55:48.108968Z"
    },
    "papermill": {
     "duration": 0.456817,
     "end_time": "2022-12-08T03:55:48.112169",
     "exception": false,
     "start_time": "2022-12-08T03:55:47.655352",
     "status": "completed"
    },
    "tags": []
   },
   "outputs": [
    {
     "data": {
      "image/png": "[encoded data removed]",
      "text/plain": [
       "<Figure size 432x288 with 1 Axes>"
      ]
     },
     "metadata": {
      "needs_background": "light"
     },
     "output_type": "display_data"
    }
   ],
   "source": [
    "#         print(i)\n",
    "img = np.reshape(np.asarray(test1), (28, 28))\n",
    "#     cv2.imwrite('image0.png',img)\n",
    "plt.imshow(img)\n",
    "plt.show()"
   ]
  },
  {
   "cell_type": "markdown",
   "id": "735a6f91",
   "metadata": {
    "papermill": {
     "duration": 0.354288,
     "end_time": "2022-12-08T03:55:48.823447",
     "exception": false,
     "start_time": "2022-12-08T03:55:48.469159",
     "status": "completed"
    },
    "tags": []
   },
   "source": [
    "# Confusion matrix\n",
    "   Gives the performance of the matrix,has two dimensions predictions and actual\n",
    "\n",
    "it basically shows the wrong prediction and the right prediction, also know as error matrix."
   ]
  },
  {
   "cell_type": "code",
   "execution_count": 29,
   "id": "945f7aa3",
   "metadata": {
    "execution": {
     "iopub.execute_input": "2022-12-08T03:55:49.587732Z",
     "iopub.status.busy": "2022-12-08T03:55:49.587189Z",
     "iopub.status.idle": "2022-12-08T03:55:49.886401Z",
     "shell.execute_reply": "2022-12-08T03:55:49.885423Z"
    },
    "papermill": {
     "duration": 0.656917,
     "end_time": "2022-12-08T03:55:49.888366",
     "exception": false,
     "start_time": "2022-12-08T03:55:49.231449",
     "status": "completed"
    },
    "tags": []
   },
   "outputs": [
    {
     "data": {
      "image/png": "[encoded data removed]",
      "text/plain": [
       "<Figure size 720x360 with 10 Axes>"
      ]
     },
     "metadata": {
      "needs_background": "light"
     },
     "output_type": "display_data"
    }
   ],
   "source": [
    "plt.figure(figsize=(10,5))\n",
    "for i in range(10):  \n",
    "    plt.subplot(2,5, i+1)\n",
    "    plt.imshow(test[i].reshape((28,28)),cmap=plt.cm.binary)\n",
    "    plt.title(\"predicted=%d\" % Yp[i],y=0.9)\n",
    "    plt.axis('off')\n",
    "plt.subplots_adjust(wspace=0.3, hspace=-0.1)\n",
    "plt.show()"
   ]
  },
  {
   "cell_type": "code",
   "execution_count": 30,
   "id": "0f157191",
   "metadata": {
    "execution": {
     "iopub.execute_input": "2022-12-08T03:55:50.654638Z",
     "iopub.status.busy": "2022-12-08T03:55:50.654325Z",
     "iopub.status.idle": "2022-12-08T03:56:03.382880Z",
     "shell.execute_reply": "2022-12-08T03:56:03.381982Z"
    },
    "papermill": {
     "duration": 13.143372,
     "end_time": "2022-12-08T03:56:03.384818",
     "exception": false,
     "start_time": "2022-12-08T03:55:50.241446",
     "status": "completed"
    },
    "tags": []
   },
   "outputs": [
    {
     "data": {
      "text/html": [
       "<div>\n",
       "<style scoped>\n",
       "    .dataframe tbody tr th:only-of-type {\n",
       "        vertical-align: middle;\n",
       "    }\n",
       "\n",
       "    .dataframe tbody tr th {\n",
       "        vertical-align: top;\n",
       "    }\n",
       "\n",
       "    .dataframe thead th {\n",
       "        text-align: right;\n",
       "    }\n",
       "</style>\n",
       "<table border=\"1\" class=\"dataframe\">\n",
       "  <thead>\n",
       "    <tr style=\"text-align: right;\">\n",
       "      <th></th>\n",
       "      <th>0</th>\n",
       "      <th>1</th>\n",
       "      <th>2</th>\n",
       "      <th>3</th>\n",
       "      <th>4</th>\n",
       "      <th>5</th>\n",
       "      <th>6</th>\n",
       "      <th>7</th>\n",
       "      <th>8</th>\n",
       "      <th>9</th>\n",
       "    </tr>\n",
       "  </thead>\n",
       "  <tbody>\n",
       "    <tr>\n",
       "      <th>0</th>\n",
       "      <td>1765</td>\n",
       "      <td>15</td>\n",
       "      <td>0</td>\n",
       "      <td>0</td>\n",
       "      <td>0</td>\n",
       "      <td>0</td>\n",
       "      <td>0</td>\n",
       "      <td>0</td>\n",
       "      <td>5</td>\n",
       "      <td>0</td>\n",
       "    </tr>\n",
       "    <tr>\n",
       "      <th>1</th>\n",
       "      <td>2</td>\n",
       "      <td>1831</td>\n",
       "      <td>0</td>\n",
       "      <td>0</td>\n",
       "      <td>0</td>\n",
       "      <td>0</td>\n",
       "      <td>0</td>\n",
       "      <td>0</td>\n",
       "      <td>0</td>\n",
       "      <td>1</td>\n",
       "    </tr>\n",
       "    <tr>\n",
       "      <th>2</th>\n",
       "      <td>3</td>\n",
       "      <td>0</td>\n",
       "      <td>1828</td>\n",
       "      <td>1</td>\n",
       "      <td>0</td>\n",
       "      <td>1</td>\n",
       "      <td>0</td>\n",
       "      <td>0</td>\n",
       "      <td>0</td>\n",
       "      <td>0</td>\n",
       "    </tr>\n",
       "    <tr>\n",
       "      <th>3</th>\n",
       "      <td>3</td>\n",
       "      <td>0</td>\n",
       "      <td>1</td>\n",
       "      <td>1775</td>\n",
       "      <td>0</td>\n",
       "      <td>2</td>\n",
       "      <td>0</td>\n",
       "      <td>4</td>\n",
       "      <td>0</td>\n",
       "      <td>0</td>\n",
       "    </tr>\n",
       "    <tr>\n",
       "      <th>4</th>\n",
       "      <td>0</td>\n",
       "      <td>0</td>\n",
       "      <td>0</td>\n",
       "      <td>4</td>\n",
       "      <td>1778</td>\n",
       "      <td>9</td>\n",
       "      <td>0</td>\n",
       "      <td>0</td>\n",
       "      <td>16</td>\n",
       "      <td>2</td>\n",
       "    </tr>\n",
       "    <tr>\n",
       "      <th>5</th>\n",
       "      <td>0</td>\n",
       "      <td>0</td>\n",
       "      <td>0</td>\n",
       "      <td>3</td>\n",
       "      <td>2</td>\n",
       "      <td>1765</td>\n",
       "      <td>0</td>\n",
       "      <td>0</td>\n",
       "      <td>0</td>\n",
       "      <td>0</td>\n",
       "    </tr>\n",
       "    <tr>\n",
       "      <th>6</th>\n",
       "      <td>0</td>\n",
       "      <td>0</td>\n",
       "      <td>0</td>\n",
       "      <td>0</td>\n",
       "      <td>0</td>\n",
       "      <td>0</td>\n",
       "      <td>1756</td>\n",
       "      <td>3</td>\n",
       "      <td>0</td>\n",
       "      <td>24</td>\n",
       "    </tr>\n",
       "    <tr>\n",
       "      <th>7</th>\n",
       "      <td>0</td>\n",
       "      <td>0</td>\n",
       "      <td>1</td>\n",
       "      <td>18</td>\n",
       "      <td>0</td>\n",
       "      <td>0</td>\n",
       "      <td>4</td>\n",
       "      <td>1818</td>\n",
       "      <td>0</td>\n",
       "      <td>1</td>\n",
       "    </tr>\n",
       "    <tr>\n",
       "      <th>8</th>\n",
       "      <td>0</td>\n",
       "      <td>0</td>\n",
       "      <td>0</td>\n",
       "      <td>0</td>\n",
       "      <td>0</td>\n",
       "      <td>0</td>\n",
       "      <td>0</td>\n",
       "      <td>0</td>\n",
       "      <td>1774</td>\n",
       "      <td>1</td>\n",
       "    </tr>\n",
       "    <tr>\n",
       "      <th>9</th>\n",
       "      <td>0</td>\n",
       "      <td>0</td>\n",
       "      <td>0</td>\n",
       "      <td>0</td>\n",
       "      <td>0</td>\n",
       "      <td>0</td>\n",
       "      <td>7</td>\n",
       "      <td>2</td>\n",
       "      <td>1</td>\n",
       "      <td>1774</td>\n",
       "    </tr>\n",
       "  </tbody>\n",
       "</table>\n",
       "</div>"
      ],
      "text/plain": [
       "      0     1     2     3     4     5     6     7     8     9\n",
       "0  1765    15     0     0     0     0     0     0     5     0\n",
       "1     2  1831     0     0     0     0     0     0     0     1\n",
       "2     3     0  1828     1     0     1     0     0     0     0\n",
       "3     3     0     1  1775     0     2     0     4     0     0\n",
       "4     0     0     0     4  1778     9     0     0    16     2\n",
       "5     0     0     0     3     2  1765     0     0     0     0\n",
       "6     0     0     0     0     0     0  1756     3     0    24\n",
       "7     0     0     1    18     0     0     4  1818     0     1\n",
       "8     0     0     0     0     0     0     0     0  1774     1\n",
       "9     0     0     0     0     0     0     7     2     1  1774"
      ]
     },
     "execution_count": 30,
     "metadata": {},
     "output_type": "execute_result"
    }
   ],
   "source": [
    "Yp2=model.predict(x_val)\n",
    "Yp2=np.argmax(Yp2,axis=1)\n",
    "Yp1=np.argmax(y_val,axis=1)\n",
    "# print(test0)\n",
    "Cmtx=confusion_matrix(Yp1,Yp2)\n",
    "Cmtx=pd.DataFrame(Cmtx,index=range(0,10),columns=range(0,10))\n",
    "Cmtx"
   ]
  },
  {
   "cell_type": "code",
   "execution_count": 31,
   "id": "90a38af7",
   "metadata": {
    "execution": {
     "iopub.execute_input": "2022-12-08T03:56:04.097862Z",
     "iopub.status.busy": "2022-12-08T03:56:04.096906Z",
     "iopub.status.idle": "2022-12-08T03:56:04.103357Z",
     "shell.execute_reply": "2022-12-08T03:56:04.101682Z"
    },
    "papermill": {
     "duration": 0.364954,
     "end_time": "2022-12-08T03:56:04.106158",
     "exception": false,
     "start_time": "2022-12-08T03:56:03.741204",
     "status": "completed"
    },
    "tags": []
   },
   "outputs": [
    {
     "name": "stdout",
     "output_type": "stream",
     "text": [
      "(5000, 28, 28, 1)\n"
     ]
    }
   ],
   "source": [
    "print(test.shape)"
   ]
  }
 ],
 "metadata": {
  "kernelspec": {
   "display_name": "Python 3",
   "language": "python",
   "name": "python3"
  },
  "language_info": {
   "codemirror_mode": {
    "name": "ipython",
    "version": 3
   },
   "file_extension": ".py",
   "mimetype": "text/x-python",
   "name": "python",
   "nbconvert_exporter": "python",
   "pygments_lexer": "ipython3",
   "version": "3.7.12"
  },
  "papermill": {
   "default_parameters": {},
   "duration": 651.54885,
   "end_time": "2022-12-08T03:56:07.992395",
   "environment_variables": {},
   "exception": null,
   "input_path": "__notebook__.ipynb",
   "output_path": "__notebook__.ipynb",
   "parameters": {},
   "start_time": "2022-12-08T03:45:16.443545",
   "version": "2.3.4"
  }
 },
 "nbformat": 4,
 "nbformat_minor": 5
}
